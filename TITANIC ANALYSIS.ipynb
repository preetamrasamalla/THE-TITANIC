{
 "cells": [
  {
   "cell_type": "markdown",
   "id": "dd76c7a9",
   "metadata": {},
   "source": [
    "#                   # Exploratory Data Analysis : TITANIC DATA"
   ]
  },
  {
   "cell_type": "markdown",
   "id": "5ba552ba",
   "metadata": {},
   "source": [
    "__we are going to puzzle out and provide insights for__"
   ]
  },
  {
   "cell_type": "markdown",
   "id": "bac99c56",
   "metadata": {},
   "source": [
    "_*Passengers on the trip (age,gender,class,..)_"
   ]
  },
  {
   "cell_type": "markdown",
   "id": "dd4ecc6d",
   "metadata": {},
   "source": [
    "_*Where did they come from?_"
   ]
  },
  {
   "cell_type": "markdown",
   "id": "270e41af",
   "metadata": {},
   "source": [
    "_*Type of travel(single/family)_"
   ]
  },
  {
   "cell_type": "markdown",
   "id": "4de6d1d7",
   "metadata": {},
   "source": [
    "_*How did people survive_"
   ]
  },
  {
   "cell_type": "markdown",
   "id": "29ff8b32",
   "metadata": {},
   "source": [
    "_At the starting of each cell the process and the logic explained starting with # & at the end of the each task the analyzed data is provided with explaination_"
   ]
  },
  {
   "cell_type": "code",
   "execution_count": 1,
   "id": "49a07cff",
   "metadata": {},
   "outputs": [],
   "source": [
    "#Importing some important libraries for the analysis\n",
    "import pandas as pd\n",
    "import numpy as np\n",
    "import matplotlib.pyplot as mat\n",
    "import seaborn as sbn\n",
    "%matplotlib inline"
   ]
  },
  {
   "cell_type": "code",
   "execution_count": 2,
   "id": "bfa6ae83",
   "metadata": {},
   "outputs": [],
   "source": [
    "#All the important libraries are imported and we are ready to go now.."
   ]
  },
  {
   "cell_type": "code",
   "execution_count": 3,
   "id": "818213c1",
   "metadata": {},
   "outputs": [],
   "source": [
    "#reading the data \n",
    "data= pd.read_csv('titan_train.csv')"
   ]
  },
  {
   "cell_type": "code",
   "execution_count": 4,
   "id": "339402fa",
   "metadata": {},
   "outputs": [
    {
     "data": {
      "text/html": [
       "<div>\n",
       "<style scoped>\n",
       "    .dataframe tbody tr th:only-of-type {\n",
       "        vertical-align: middle;\n",
       "    }\n",
       "\n",
       "    .dataframe tbody tr th {\n",
       "        vertical-align: top;\n",
       "    }\n",
       "\n",
       "    .dataframe thead th {\n",
       "        text-align: right;\n",
       "    }\n",
       "</style>\n",
       "<table border=\"1\" class=\"dataframe\">\n",
       "  <thead>\n",
       "    <tr style=\"text-align: right;\">\n",
       "      <th></th>\n",
       "      <th>PassengerId</th>\n",
       "      <th>Survived</th>\n",
       "      <th>Pclass</th>\n",
       "      <th>Name</th>\n",
       "      <th>Sex</th>\n",
       "      <th>Age</th>\n",
       "      <th>SibSp</th>\n",
       "      <th>Parch</th>\n",
       "      <th>Ticket</th>\n",
       "      <th>Fare</th>\n",
       "      <th>Cabin</th>\n",
       "      <th>Embarked</th>\n",
       "    </tr>\n",
       "  </thead>\n",
       "  <tbody>\n",
       "    <tr>\n",
       "      <th>0</th>\n",
       "      <td>1</td>\n",
       "      <td>0</td>\n",
       "      <td>3</td>\n",
       "      <td>Braund, Mr. Owen Harris</td>\n",
       "      <td>male</td>\n",
       "      <td>22.0</td>\n",
       "      <td>1</td>\n",
       "      <td>0</td>\n",
       "      <td>A/5 21171</td>\n",
       "      <td>7.2500</td>\n",
       "      <td>NaN</td>\n",
       "      <td>S</td>\n",
       "    </tr>\n",
       "    <tr>\n",
       "      <th>1</th>\n",
       "      <td>2</td>\n",
       "      <td>1</td>\n",
       "      <td>1</td>\n",
       "      <td>Cumings, Mrs. John Bradley (Florence Briggs Th...</td>\n",
       "      <td>female</td>\n",
       "      <td>38.0</td>\n",
       "      <td>1</td>\n",
       "      <td>0</td>\n",
       "      <td>PC 17599</td>\n",
       "      <td>71.2833</td>\n",
       "      <td>C85</td>\n",
       "      <td>C</td>\n",
       "    </tr>\n",
       "    <tr>\n",
       "      <th>2</th>\n",
       "      <td>3</td>\n",
       "      <td>1</td>\n",
       "      <td>3</td>\n",
       "      <td>Heikkinen, Miss. Laina</td>\n",
       "      <td>female</td>\n",
       "      <td>26.0</td>\n",
       "      <td>0</td>\n",
       "      <td>0</td>\n",
       "      <td>STON/O2. 3101282</td>\n",
       "      <td>7.9250</td>\n",
       "      <td>NaN</td>\n",
       "      <td>S</td>\n",
       "    </tr>\n",
       "    <tr>\n",
       "      <th>3</th>\n",
       "      <td>4</td>\n",
       "      <td>1</td>\n",
       "      <td>1</td>\n",
       "      <td>Futrelle, Mrs. Jacques Heath (Lily May Peel)</td>\n",
       "      <td>female</td>\n",
       "      <td>35.0</td>\n",
       "      <td>1</td>\n",
       "      <td>0</td>\n",
       "      <td>113803</td>\n",
       "      <td>53.1000</td>\n",
       "      <td>C123</td>\n",
       "      <td>S</td>\n",
       "    </tr>\n",
       "    <tr>\n",
       "      <th>4</th>\n",
       "      <td>5</td>\n",
       "      <td>0</td>\n",
       "      <td>3</td>\n",
       "      <td>Allen, Mr. William Henry</td>\n",
       "      <td>male</td>\n",
       "      <td>35.0</td>\n",
       "      <td>0</td>\n",
       "      <td>0</td>\n",
       "      <td>373450</td>\n",
       "      <td>8.0500</td>\n",
       "      <td>NaN</td>\n",
       "      <td>S</td>\n",
       "    </tr>\n",
       "  </tbody>\n",
       "</table>\n",
       "</div>"
      ],
      "text/plain": [
       "   PassengerId  Survived  Pclass  \\\n",
       "0            1         0       3   \n",
       "1            2         1       1   \n",
       "2            3         1       3   \n",
       "3            4         1       1   \n",
       "4            5         0       3   \n",
       "\n",
       "                                                Name     Sex   Age  SibSp  \\\n",
       "0                            Braund, Mr. Owen Harris    male  22.0      1   \n",
       "1  Cumings, Mrs. John Bradley (Florence Briggs Th...  female  38.0      1   \n",
       "2                             Heikkinen, Miss. Laina  female  26.0      0   \n",
       "3       Futrelle, Mrs. Jacques Heath (Lily May Peel)  female  35.0      1   \n",
       "4                           Allen, Mr. William Henry    male  35.0      0   \n",
       "\n",
       "   Parch            Ticket     Fare Cabin Embarked  \n",
       "0      0         A/5 21171   7.2500   NaN        S  \n",
       "1      0          PC 17599  71.2833   C85        C  \n",
       "2      0  STON/O2. 3101282   7.9250   NaN        S  \n",
       "3      0            113803  53.1000  C123        S  \n",
       "4      0            373450   8.0500   NaN        S  "
      ]
     },
     "execution_count": 4,
     "metadata": {},
     "output_type": "execute_result"
    }
   ],
   "source": [
    "#sample data\n",
    "data.head()"
   ]
  },
  {
   "cell_type": "code",
   "execution_count": 74,
   "id": "ac91180b",
   "metadata": {},
   "outputs": [
    {
     "data": {
      "text/html": [
       "<div>\n",
       "<style scoped>\n",
       "    .dataframe tbody tr th:only-of-type {\n",
       "        vertical-align: middle;\n",
       "    }\n",
       "\n",
       "    .dataframe tbody tr th {\n",
       "        vertical-align: top;\n",
       "    }\n",
       "\n",
       "    .dataframe thead th {\n",
       "        text-align: right;\n",
       "    }\n",
       "</style>\n",
       "<table border=\"1\" class=\"dataframe\">\n",
       "  <thead>\n",
       "    <tr style=\"text-align: right;\">\n",
       "      <th></th>\n",
       "      <th>PassengerId</th>\n",
       "      <th>Survived</th>\n",
       "      <th>Pclass</th>\n",
       "      <th>Age</th>\n",
       "      <th>SibSp</th>\n",
       "      <th>Parch</th>\n",
       "      <th>Fare</th>\n",
       "      <th>ALONER</th>\n",
       "    </tr>\n",
       "  </thead>\n",
       "  <tbody>\n",
       "    <tr>\n",
       "      <th>count</th>\n",
       "      <td>891.000000</td>\n",
       "      <td>891.000000</td>\n",
       "      <td>891.000000</td>\n",
       "      <td>714.000000</td>\n",
       "      <td>891.000000</td>\n",
       "      <td>891.000000</td>\n",
       "      <td>891.000000</td>\n",
       "      <td>891.000000</td>\n",
       "    </tr>\n",
       "    <tr>\n",
       "      <th>mean</th>\n",
       "      <td>446.000000</td>\n",
       "      <td>0.383838</td>\n",
       "      <td>2.308642</td>\n",
       "      <td>29.699118</td>\n",
       "      <td>0.523008</td>\n",
       "      <td>0.381594</td>\n",
       "      <td>24.046813</td>\n",
       "      <td>0.904602</td>\n",
       "    </tr>\n",
       "    <tr>\n",
       "      <th>std</th>\n",
       "      <td>257.353842</td>\n",
       "      <td>0.486592</td>\n",
       "      <td>0.836071</td>\n",
       "      <td>14.526497</td>\n",
       "      <td>1.102743</td>\n",
       "      <td>0.806057</td>\n",
       "      <td>20.481625</td>\n",
       "      <td>1.613459</td>\n",
       "    </tr>\n",
       "    <tr>\n",
       "      <th>min</th>\n",
       "      <td>1.000000</td>\n",
       "      <td>0.000000</td>\n",
       "      <td>1.000000</td>\n",
       "      <td>0.420000</td>\n",
       "      <td>0.000000</td>\n",
       "      <td>0.000000</td>\n",
       "      <td>0.000000</td>\n",
       "      <td>0.000000</td>\n",
       "    </tr>\n",
       "    <tr>\n",
       "      <th>25%</th>\n",
       "      <td>223.500000</td>\n",
       "      <td>0.000000</td>\n",
       "      <td>2.000000</td>\n",
       "      <td>20.125000</td>\n",
       "      <td>0.000000</td>\n",
       "      <td>0.000000</td>\n",
       "      <td>7.910400</td>\n",
       "      <td>0.000000</td>\n",
       "    </tr>\n",
       "    <tr>\n",
       "      <th>50%</th>\n",
       "      <td>446.000000</td>\n",
       "      <td>0.000000</td>\n",
       "      <td>3.000000</td>\n",
       "      <td>28.000000</td>\n",
       "      <td>0.000000</td>\n",
       "      <td>0.000000</td>\n",
       "      <td>14.454200</td>\n",
       "      <td>0.000000</td>\n",
       "    </tr>\n",
       "    <tr>\n",
       "      <th>75%</th>\n",
       "      <td>668.500000</td>\n",
       "      <td>1.000000</td>\n",
       "      <td>3.000000</td>\n",
       "      <td>38.000000</td>\n",
       "      <td>1.000000</td>\n",
       "      <td>0.000000</td>\n",
       "      <td>31.000000</td>\n",
       "      <td>1.000000</td>\n",
       "    </tr>\n",
       "    <tr>\n",
       "      <th>max</th>\n",
       "      <td>891.000000</td>\n",
       "      <td>1.000000</td>\n",
       "      <td>3.000000</td>\n",
       "      <td>80.000000</td>\n",
       "      <td>8.000000</td>\n",
       "      <td>6.000000</td>\n",
       "      <td>65.634400</td>\n",
       "      <td>10.000000</td>\n",
       "    </tr>\n",
       "  </tbody>\n",
       "</table>\n",
       "</div>"
      ],
      "text/plain": [
       "       PassengerId    Survived      Pclass         Age       SibSp  \\\n",
       "count   891.000000  891.000000  891.000000  714.000000  891.000000   \n",
       "mean    446.000000    0.383838    2.308642   29.699118    0.523008   \n",
       "std     257.353842    0.486592    0.836071   14.526497    1.102743   \n",
       "min       1.000000    0.000000    1.000000    0.420000    0.000000   \n",
       "25%     223.500000    0.000000    2.000000   20.125000    0.000000   \n",
       "50%     446.000000    0.000000    3.000000   28.000000    0.000000   \n",
       "75%     668.500000    1.000000    3.000000   38.000000    1.000000   \n",
       "max     891.000000    1.000000    3.000000   80.000000    8.000000   \n",
       "\n",
       "            Parch        Fare      ALONER  \n",
       "count  891.000000  891.000000  891.000000  \n",
       "mean     0.381594   24.046813    0.904602  \n",
       "std      0.806057   20.481625    1.613459  \n",
       "min      0.000000    0.000000    0.000000  \n",
       "25%      0.000000    7.910400    0.000000  \n",
       "50%      0.000000   14.454200    0.000000  \n",
       "75%      0.000000   31.000000    1.000000  \n",
       "max      6.000000   65.634400   10.000000  "
      ]
     },
     "execution_count": 74,
     "metadata": {},
     "output_type": "execute_result"
    }
   ],
   "source": [
    "#some statisticks of  the data\n",
    "data.describe()"
   ]
  },
  {
   "cell_type": "markdown",
   "id": "9a30630c",
   "metadata": {},
   "source": [
    "__found out some error in the fare-section, 75th quantile  of fair is 31.00 and maximum fare is 512.329__"
   ]
  },
  {
   "cell_type": "code",
   "execution_count": 75,
   "id": "59ecd1eb",
   "metadata": {},
   "outputs": [
    {
     "data": {
      "text/plain": [
       "(7.9104, 31.0)"
      ]
     },
     "execution_count": 75,
     "metadata": {},
     "output_type": "execute_result"
    }
   ],
   "source": [
    "#dealing with outliers\n",
    "data.Fare.quantile(0.25),data.Fare.quantile(0.75)"
   ]
  },
  {
   "cell_type": "code",
   "execution_count": 76,
   "id": "8da95b67",
   "metadata": {},
   "outputs": [
    {
     "data": {
      "text/plain": [
       "23.0896"
      ]
     },
     "execution_count": 76,
     "metadata": {},
     "output_type": "execute_result"
    }
   ],
   "source": [
    "#whisker logic into the field\n",
    "IQR = data.Fare.quantile(0.75)-data.Fare.quantile(0.25)\n",
    "IQR"
   ]
  },
  {
   "cell_type": "code",
   "execution_count": 77,
   "id": "deccc114",
   "metadata": {},
   "outputs": [
    {
     "data": {
      "text/plain": [
       "(-26.724, 65.6344)"
      ]
     },
     "execution_count": 77,
     "metadata": {},
     "output_type": "execute_result"
    }
   ],
   "source": [
    "#calculating whiskers\n",
    "W1=data.Fare.quantile(0.25)-(1.5*IQR)\n",
    "W2=data.Fare.quantile(0.75)+(1.5*IQR)\n",
    "W1,W2"
   ]
  },
  {
   "cell_type": "code",
   "execution_count": 9,
   "id": "56697b1e",
   "metadata": {},
   "outputs": [],
   "source": [
    "# Fares which are greater than 65.6344 are invalid"
   ]
  },
  {
   "cell_type": "code",
   "execution_count": 10,
   "id": "c6d5eebd",
   "metadata": {},
   "outputs": [
    {
     "name": "stderr",
     "output_type": "stream",
     "text": [
      "C:\\Users\\HP 15-DC0084TX\\AppData\\Local\\Temp\\ipykernel_29880\\3888624192.py:2: SettingWithCopyWarning: \n",
      "A value is trying to be set on a copy of a slice from a DataFrame\n",
      "\n",
      "See the caveats in the documentation: https://pandas.pydata.org/pandas-docs/stable/user_guide/indexing.html#returning-a-view-versus-a-copy\n",
      "  data['Fare'].loc[data['Fare']>65.63] =W2\n"
     ]
    }
   ],
   "source": [
    "#replacing the invalid entries with maxium fare \n",
    "data['Fare'].loc[data['Fare']>65.63] =W2"
   ]
  },
  {
   "cell_type": "code",
   "execution_count": null,
   "id": "c24ed180",
   "metadata": {},
   "outputs": [],
   "source": []
  },
  {
   "cell_type": "markdown",
   "id": "27d1b5d7",
   "metadata": {},
   "source": [
    "# INSIGHTS OF PASSENGERS"
   ]
  },
  {
   "cell_type": "code",
   "execution_count": 11,
   "id": "3c186ef9",
   "metadata": {},
   "outputs": [
    {
     "data": {
      "text/plain": [
       "Index(['PassengerId', 'Survived', 'Pclass', 'Name', 'Sex', 'Age', 'SibSp',\n",
       "       'Parch', 'Ticket', 'Fare', 'Cabin', 'Embarked'],\n",
       "      dtype='object')"
      ]
     },
     "execution_count": 11,
     "metadata": {},
     "output_type": "execute_result"
    }
   ],
   "source": [
    "data.columns"
   ]
  },
  {
   "cell_type": "markdown",
   "id": "3aa1267f",
   "metadata": {},
   "source": [
    "# TASK 1"
   ]
  },
  {
   "cell_type": "markdown",
   "id": "900f5586",
   "metadata": {},
   "source": [
    "##  AGE, CLASS & SEX"
   ]
  },
  {
   "cell_type": "code",
   "execution_count": 25,
   "id": "7908d852",
   "metadata": {},
   "outputs": [
    {
     "name": "stderr",
     "output_type": "stream",
     "text": [
      "D:\\lib\\site-packages\\seaborn\\_decorators.py:36: FutureWarning: Pass the following variable as a keyword arg: x. From version 0.12, the only valid positional argument will be `data`, and passing other arguments without an explicit keyword will result in an error or misinterpretation.\n",
      "  warnings.warn(\n"
     ]
    },
    {
     "data": {
      "image/png": "[encoded data removed]",
      "text/plain": [
       "<Figure size 504x576 with 1 Axes>"
      ]
     },
     "metadata": {},
     "output_type": "display_data"
    }
   ],
   "source": [
    "sbn.countplot(data.Sex, palette=\"crest\")\n",
    "sbn.set_style(\"darkgrid\")\n",
    "mat.title(\"TOTAL NUMBER OF MALES AND FEMALES\",fontsize=15);"
   ]
  },
  {
   "cell_type": "code",
   "execution_count": 13,
   "id": "e55e81cb",
   "metadata": {},
   "outputs": [],
   "source": [
    "#p.s ignore the popouts..!"
   ]
  },
  {
   "cell_type": "code",
   "execution_count": 14,
   "id": "bcf61019",
   "metadata": {},
   "outputs": [],
   "source": [
    "# Bieng more specific \n",
    "#Function to detect if a person is a man, woman or child.\n",
    "def man_wom_chi(passenger):\n",
    "    age=passenger['Age']\n",
    "    sex=passenger['Sex']\n",
    "    \n",
    "    return 'child' if age < 16 else sex\n",
    "\n",
    "#Using Pandas' apply method to create a new column \"Person\"\n",
    "data['TYPE'] = data.apply(man_wom_chi,axis=1)"
   ]
  },
  {
   "cell_type": "code",
   "execution_count": 15,
   "id": "c72c27c5",
   "metadata": {},
   "outputs": [
    {
     "data": {
      "text/plain": [
       "male      537\n",
       "female    271\n",
       "child      83\n",
       "Name: TYPE, dtype: int64"
      ]
     },
     "execution_count": 15,
     "metadata": {},
     "output_type": "execute_result"
    }
   ],
   "source": [
    "data.TYPE.value_counts()"
   ]
  },
  {
   "cell_type": "markdown",
   "id": "9dff0077",
   "metadata": {},
   "source": [
    "### __i.e there are a total of 537 males and 271 females  and 83 children in the train__"
   ]
  },
  {
   "cell_type": "code",
   "execution_count": 92,
   "id": "5b9e0936",
   "metadata": {},
   "outputs": [
    {
     "data": {
      "image/png": "[encoded data removed]",
      "text/plain": [
       "<Figure size 426.125x360 with 1 Axes>"
      ]
     },
     "metadata": {},
     "output_type": "display_data"
    }
   ],
   "source": [
    "#socio-economy classes and the count \n",
    "sbn.catplot(x='Pclass' ,data=data, kind='count', hue='TYPE', palette=sbn.color_palette(['#33a1c9','#b0c4de','#8470ff']))\n",
    "mat.title('PCLASS DIVISION OF PASSENGERS', fontsize=15);"
   ]
  },
  {
   "cell_type": "markdown",
   "id": "36476b28",
   "metadata": {},
   "source": [
    "### __It seems to be more number of passengers In class 3 are higher__"
   ]
  },
  {
   "cell_type": "code",
   "execution_count": null,
   "id": "c28dfcff",
   "metadata": {},
   "outputs": [],
   "source": []
  },
  {
   "cell_type": "code",
   "execution_count": 26,
   "id": "5c24807d",
   "metadata": {},
   "outputs": [
    {
     "data": {
      "image/png": "[encoded data removed]",
      "text/plain": [
       "<Figure size 504x576 with 1 Axes>"
      ]
     },
     "metadata": {},
     "output_type": "display_data"
    }
   ],
   "source": [
    "#age groups of passengers\n",
    "mat.hist(data.Age, color='#668b8b', bins=8);"
   ]
  },
  {
   "cell_type": "markdown",
   "id": "077a0eea",
   "metadata": {},
   "source": [
    "__\" Above in the histogram plot we can see that  the maximum number of passengers are between the age group 20 -30 years__"
   ]
  },
  {
   "cell_type": "markdown",
   "id": "b6e52b65",
   "metadata": {},
   "source": [
    "# TASK2:"
   ]
  },
  {
   "cell_type": "markdown",
   "id": "c202fe50",
   "metadata": {},
   "source": [
    "# WHERE DID THE PASSEGERS COME FROM? "
   ]
  },
  {
   "cell_type": "markdown",
   "id": "36965ccc",
   "metadata": {},
   "source": [
    "__The Embarked attribute contains data for the passengers' port of embarkation (C = Cherbourg; Q = Queenstown; S = Southampton).__\n",
    "\n"
   ]
  },
  {
   "cell_type": "code",
   "execution_count": 83,
   "id": "510a6e7c",
   "metadata": {},
   "outputs": [
    {
     "data": {
      "image/png": "[encoded data removed]",
      "text/plain": [
       "<Figure size 426.125x360 with 1 Axes>"
      ]
     },
     "metadata": {},
     "output_type": "display_data"
    }
   ],
   "source": [
    "#creating a catplot with kind as count  which gives us total count of passengers from different citys\n",
    "sbn.catplot(x='Embarked', kind='count', hue='TYPE', data=data,palette=sbn.color_palette(['skyblue','pink','lightgreen']))\n",
    "mat.title('passengers travelling from', fontsize=20);"
   ]
  },
  {
   "cell_type": "markdown",
   "id": "78f38e98",
   "metadata": {},
   "source": [
    "__The maximun number of passengers are from Southhampton followed by cherbourg then Queenstown__"
   ]
  },
  {
   "cell_type": "markdown",
   "id": "ddbaaa30",
   "metadata": {},
   "source": [
    "# TASK 3:"
   ]
  },
  {
   "cell_type": "markdown",
   "id": "85c3a7e0",
   "metadata": {},
   "source": [
    "# ARE THEY TRAVELING ALONE?"
   ]
  },
  {
   "cell_type": "code",
   "execution_count": 19,
   "id": "828b1a8b",
   "metadata": {},
   "outputs": [
    {
     "data": {
      "text/plain": [
       "Index(['PassengerId', 'Survived', 'Pclass', 'Name', 'Sex', 'Age', 'SibSp',\n",
       "       'Parch', 'Ticket', 'Fare', 'Cabin', 'Embarked', 'TYPE'],\n",
       "      dtype='object')"
      ]
     },
     "execution_count": 19,
     "metadata": {},
     "output_type": "execute_result"
    }
   ],
   "source": [
    "data.columns"
   ]
  },
  {
   "cell_type": "code",
   "execution_count": 63,
   "id": "6caead08",
   "metadata": {},
   "outputs": [],
   "source": [
    "# sibSp refers to siblings and parch refers to parents\n",
    "# for our comfort we create a new column called \"WITH\" to know if the passenger is alone or not\n",
    "data[\"ALONER\"]=data.SibSp+data.Parch"
   ]
  },
  {
   "cell_type": "code",
   "execution_count": 84,
   "id": "4276cbfb",
   "metadata": {},
   "outputs": [
    {
     "data": {
      "text/plain": [
       "''"
      ]
     },
     "execution_count": 84,
     "metadata": {},
     "output_type": "execute_result"
    },
    {
     "data": {
      "image/png": "[encoded data removed]",
      "text/plain": [
       "<Figure size 504x576 with 1 Axes>"
      ]
     },
     "metadata": {},
     "output_type": "display_data"
    }
   ],
   "source": [
    "##ploting\n",
    "data.ALONER.value_counts().plot(kind='bar', color='#191970')\n",
    "mat.rcParams[\"figure.figsize\"]=[7,8]\n",
    "mat.xlabel('no.of passengers together', fontsize=20)\n",
    "mat.title('BOOKED FOR',fontsize=20)\n",
    ";"
   ]
  },
  {
   "cell_type": "markdown",
   "id": "b6560bf6",
   "metadata": {},
   "source": [
    "__\"above graph gives the information about the count of passengers travelling with their family members and count of thir family members is shown on x axis\"__"
   ]
  },
  {
   "cell_type": "code",
   "execution_count": 85,
   "id": "25446263",
   "metadata": {},
   "outputs": [
    {
     "name": "stderr",
     "output_type": "stream",
     "text": [
      "C:\\Users\\HP 15-DC0084TX\\AppData\\Local\\Temp\\ipykernel_29880\\2032834104.py:2: SettingWithCopyWarning: \n",
      "A value is trying to be set on a copy of a slice from a DataFrame\n",
      "\n",
      "See the caveats in the documentation: https://pandas.pydata.org/pandas-docs/stable/user_guide/indexing.html#returning-a-view-versus-a-copy\n",
      "  data['ALONER'].loc[data['ALONER']>=1]= 'NO'\n"
     ]
    }
   ],
   "source": [
    "#assigning with yes and no values if they are traveling alone and with members together respectively\n",
    "data['ALONER'].loc[data['ALONER']>=1]= 'NO'"
   ]
  },
  {
   "cell_type": "code",
   "execution_count": 50,
   "id": "ea4324e4",
   "metadata": {},
   "outputs": [],
   "source": [
    "data['ALONER'].loc[data[\"ALONER\"]==0]='YES'"
   ]
  },
  {
   "cell_type": "code",
   "execution_count": 51,
   "id": "8d522e03",
   "metadata": {},
   "outputs": [
    {
     "data": {
      "text/plain": [
       "YES    537\n",
       "NO     354\n",
       "Name: ALONER, dtype: int64"
      ]
     },
     "execution_count": 51,
     "metadata": {},
     "output_type": "execute_result"
    }
   ],
   "source": [
    "data['ALONER'].value_counts()"
   ]
  },
  {
   "cell_type": "code",
   "execution_count": 61,
   "id": "e26a1154",
   "metadata": {},
   "outputs": [
    {
     "data": {
      "image/png": "[encoded data removed]",
      "text/plain": [
       "<Figure size 504x576 with 1 Axes>"
      ]
     },
     "metadata": {},
     "output_type": "display_data"
    }
   ],
   "source": [
    "data['ALONER'].value_counts().plot(kind='pie', autopct='%.1f%%', colors=['#33a1c9','#a2b5cd']);"
   ]
  },
  {
   "cell_type": "markdown",
   "id": "831f2ab1",
   "metadata": {},
   "source": [
    "__Almost 537 passengers were traveling alone & 60 percent of tickets were booked by single travellers__"
   ]
  },
  {
   "cell_type": "code",
   "execution_count": null,
   "id": "6997506c",
   "metadata": {},
   "outputs": [],
   "source": []
  },
  {
   "cell_type": "markdown",
   "id": "2c538651",
   "metadata": {},
   "source": [
    "# TASK 4:"
   ]
  },
  {
   "cell_type": "markdown",
   "id": "04a8a70f",
   "metadata": {},
   "source": [
    "# THE GAME OF SURVIVAL "
   ]
  },
  {
   "cell_type": "code",
   "execution_count": 57,
   "id": "a53fbcbb",
   "metadata": {},
   "outputs": [
    {
     "data": {
      "text/plain": [
       "<seaborn.axisgrid.FacetGrid at 0x2af85818970>"
      ]
     },
     "execution_count": 57,
     "metadata": {},
     "output_type": "execute_result"
    },
    {
     "data": {
      "image/png": "[encoded data removed]",
      "text/plain": [
       "<Figure size 426.125x360 with 1 Axes>"
      ]
     },
     "metadata": {},
     "output_type": "display_data"
    }
   ],
   "source": [
    "sbn.catplot(x='Pclass', y='Survived', data=data, hue='TYPE', kind='point')"
   ]
  },
  {
   "cell_type": "markdown",
   "id": "37b63ae5",
   "metadata": {},
   "source": [
    "__High importance was given to Children and Women as shown in the movie, we can see here the survival of children and women of 1st & 2nd classes is more, also we can see that men had less chance of survival especially men from the 2nd and 3rd classes__"
   ]
  },
  {
   "cell_type": "code",
   "execution_count": null,
   "id": "54042f33",
   "metadata": {},
   "outputs": [],
   "source": []
  }
 ],
 "metadata": {
  "kernelspec": {
   "display_name": "Python 3 (ipykernel)",
   "language": "python",
   "name": "python3"
  },
  "language_info": {
   "codemirror_mode": {
    "name": "ipython",
    "version": 3
   },
   "file_extension": ".py",
   "mimetype": "text/x-python",
   "name": "python",
   "nbconvert_exporter": "python",
   "pygments_lexer": "ipython3",
   "version": "3.10.5"
  }
 },
 "nbformat": 4,
 "nbformat_minor": 5
}
